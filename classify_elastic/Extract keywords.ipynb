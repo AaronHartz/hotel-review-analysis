{
 "cells": [
  {
   "cell_type": "code",
   "execution_count": null,
   "metadata": {
    "collapsed": true
   },
   "outputs": [],
   "source": [
    "from elasticsearch import Elasticsearch\n",
    "es = Elasticsearch(['http://localhost:9200'])"
   ]
  },
  {
   "cell_type": "markdown",
   "metadata": {},
   "source": [
    "Use Elasticsearch to iterate over the reviews and find some opinion units that correspond to the city, topic, and sentiment"
   ]
  },
  {
   "cell_type": "code",
   "execution_count": null,
   "metadata": {
    "collapsed": true
   },
   "outputs": [],
   "source": [
    "sample_size = 1000\n",
    "found = 0\n",
    "topic = \"Cleanliness\"\n",
    "sentiment = \"Bad\"\n",
    "city = \"Bangkok\"\n",
    "opinion_units = es.search(index=\"index_hotels\", \n",
    "                          scroll=\"1m\", \n",
    "                          size=1000, \n",
    "                          doc_type=\"opinion_unit\", \n",
    "                          body={\"query\":{\"match_all\":{}}}\n",
    "                         )\n",
    "\n",
    "scroll_id = opinion_units[\"_scroll_id\"]\n",
    "hits = opinion_units[\"hits\"][\"hits\"]\n",
    "rows = []\n",
    "while found < sample_size:\n",
    "    for item in hits:\n",
    "        if topic in item[\"_source\"][\"topic\"] and sentiment in item[\"_source\"][\"sentiment\"]:\n",
    "            review = es.get(index=\"index_hotels\", doc_type=\"review\", id=item[\"_parent\"])\n",
    "            if city in review[\"_source\"][\"city\"]:\n",
    "                rows.append(item[\"_source\"][\"content\"])\n",
    "                found += 1\n",
    "                if found == sample_size:\n",
    "                    break\n",
    "    hits = es.scroll(scroll_id=scroll_id, scroll=\"1m\")[\"hits\"][\"hits\"]"
   ]
  },
  {
   "cell_type": "markdown",
   "metadata": {},
   "source": [
    "Combine the contents into a single text"
   ]
  },
  {
   "cell_type": "code",
   "execution_count": null,
   "metadata": {
    "collapsed": true
   },
   "outputs": [],
   "source": [
    "text = \"\\n\".join(rows)"
   ]
  },
  {
   "cell_type": "markdown",
   "metadata": {},
   "source": [
    "Extract keywords"
   ]
  },
  {
   "cell_type": "code",
   "execution_count": null,
   "metadata": {
    "collapsed": false
   },
   "outputs": [],
   "source": [
    "from monkeylearn import MonkeyLearn\n",
    "\n",
    "ml = MonkeyLearn('<your api key here>')\n",
    "text_list = [text]\n",
    "module_id = 'ex_y7BPYzNG'\n",
    "res = ml.extractors.extract(module_id, text_list)"
   ]
  },
  {
   "cell_type": "markdown",
   "metadata": {},
   "source": [
    "Print the results!"
   ]
  },
  {
   "cell_type": "code",
   "execution_count": null,
   "metadata": {
    "collapsed": false
   },
   "outputs": [],
   "source": [
    "for d in res.result[0]:\n",
    "    print d[\"keyword\"]"
   ]
  },
  {
   "cell_type": "code",
   "execution_count": null,
   "metadata": {
    "collapsed": true
   },
   "outputs": [],
   "source": []
  }
 ],
 "metadata": {
  "kernelspec": {
   "display_name": "Python 2",
   "language": "python",
   "name": "python2"
  },
  "language_info": {
   "codemirror_mode": {
    "name": "ipython",
    "version": 2
   },
   "file_extension": ".py",
   "mimetype": "text/x-python",
   "name": "python",
   "nbconvert_exporter": "python",
   "pygments_lexer": "ipython2",
   "version": "2.7.6"
  }
 },
 "nbformat": 4,
 "nbformat_minor": 0
}
